{
 "cells": [
  {
   "cell_type": "markdown",
   "metadata": {},
   "source": [
    "## Execution Instructions\n",
    "To enter your data first clear the existing data by selecting Kernel on the command bar. From the drop-down frame select Restart and Run All. You will need to verify your intention of clearing the variable data. Afterwards, you will find the cursor flashing in the the querry box for Enter the radius.  After entering your value, key return and enter your value for the height.  Finally, scroll down to see the calculated answers for the volume and surface area of your cylinder.  "
   ]
  },
  {
   "cell_type": "code",
   "execution_count": 1,
   "metadata": {},
   "outputs": [],
   "source": [
    "import math"
   ]
  },
  {
   "cell_type": "markdown",
   "metadata": {},
   "source": [
    "## Math library\n",
    "Here we import math from the Python libraries.\n",
    "The syntax math.pi will insert a value of pi\n",
    "from the library."
   ]
  },
  {
   "cell_type": "code",
   "execution_count": 2,
   "metadata": {},
   "outputs": [],
   "source": [
    "def cylinder(r,h): \n",
    "    v = math.pi*r**2*h\n",
    "    s = 2*math.pi*r*h + 2*math.pi*r**2\n",
    "    return v,s"
   ]
  },
  {
   "cell_type": "markdown",
   "metadata": {},
   "source": [
    "## Function definition\n",
    "This statement defines a function, cylinder(r, h), whose name is cylinder.\n",
    "The function accepts two parameters, r and h.  When\n",
    "called the function will evaluate v and s and return these\n",
    "values.  See the next 3 lines of code."
   ]
  },
  {
   "cell_type": "code",
   "execution_count": null,
   "metadata": {},
   "outputs": [],
   "source": [
    "entry_1 = float(input(\"Enter the radius: \"))\n",
    "entry_2 = float(input(\"Enter the height: \"))"
   ]
  },
  {
   "cell_type": "markdown",
   "metadata": {},
   "source": [
    "## Keyboard Entries\n",
    "These two lines direct the user to enter numerical values from the keyboard.  The first asks for the radius of the cylinder, the second for its height."
   ]
  },
  {
   "cell_type": "code",
   "execution_count": null,
   "metadata": {},
   "outputs": [],
   "source": [
    "volume, surface_area = cylinder(entry_1, entry_2)\n",
    "volume = round(volume, 2)\n",
    "surface_area = round(surface_area, 2)"
   ]
  },
  {
   "cell_type": "markdown",
   "metadata": {},
   "source": [
    "## Function Call\n",
    "The right side of this expression volume, surface_area = cylinder(entry_1, entry_2) calls the cylinder function cylinder(r, h) and assigns the keyboard values entry_1 and entry_2 to the parameters r, h, respectively.  The remaining 3 lines in the function block are executed:\n",
    " v = math.pi*r**2*h, \n",
    " s = 2*math.pi*r*h + 2*math.pi*r**2\n",
    " return v,s\n",
    " \n",
    " Finally, the values for v, s are assigned to volume, surface_area and rounded to two decimal places.  "
   ]
  },
  {
   "cell_type": "code",
   "execution_count": null,
   "metadata": {},
   "outputs": [],
   "source": [
    "print(\"The volume is \", volume, \"units ^ 3\")\n",
    "print(\"The surface area is \", surface_area, \"units ^ 2\")"
   ]
  },
  {
   "cell_type": "markdown",
   "metadata": {},
   "source": [
    "## Print Statements\n",
    "These two print statements print the calculated values for the volume and surface area of the user's cylinder.  Each value is recorded to two decimal places."
   ]
  }
 ],
 "metadata": {
  "kernelspec": {
   "display_name": "Python 3",
   "language": "python",
   "name": "python3"
  },
  "language_info": {
   "codemirror_mode": {
    "name": "ipython",
    "version": 3
   },
   "file_extension": ".py",
   "mimetype": "text/x-python",
   "name": "python",
   "nbconvert_exporter": "python",
   "pygments_lexer": "ipython3",
   "version": "3.7.6"
  }
 },
 "nbformat": 4,
 "nbformat_minor": 4
}
